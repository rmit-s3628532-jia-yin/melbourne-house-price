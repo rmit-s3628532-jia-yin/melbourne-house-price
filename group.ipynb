{
 "cells": [
  {
   "cell_type": "code",
   "execution_count": 60,
   "metadata": {},
   "outputs": [],
   "source": [
    "import pandas as pa\n",
    "\n",
    "datafile = pa.read_excel('melbourne-house-prices.xlsx', sheet_name='ass2_prep_Melbourne_housing_FUL')"
   ]
  },
  {
   "cell_type": "code",
   "execution_count": 61,
   "metadata": {},
   "outputs": [],
   "source": [
    "datafile['max_bound_100K'].replace(regex=r'(K$)', inplace=True, value='')\n",
    "\n",
    "datafile['max_bound_100K'] = datafile['max_bound_100K'].astype(int)"
   ]
  },
  {
   "cell_type": "code",
   "execution_count": 62,
   "metadata": {},
   "outputs": [],
   "source": [
    "counts = datafile['max_bound_100K'].value_counts().to_dict()"
   ]
  },
  {
   "cell_type": "code",
   "execution_count": 66,
   "metadata": {},
   "outputs": [],
   "source": [
    "#drop all classes that have less than 100 members\n",
    "datafile = datafile.drop(datafile[datafile.max_bound_100K < 300].index)\n",
    "datafile = datafile.drop(datafile[datafile.max_bound_100K > 2700].index)"
   ]
  },
  {
   "cell_type": "code",
   "execution_count": 67,
   "metadata": {},
   "outputs": [],
   "source": [
    "#merge classes so that each has around 1500 elements, though classes whose base size exceed 1500 may go significantly over\n",
    "sum = 0\n",
    "previous = 0\n",
    "\n",
    "for x in sorted(counts):\n",
    "    sum += counts[x]\n",
    "    if sum > 1500:\n",
    "        sum = 0\n",
    "        previous = 0\n",
    "    if previous != 0:\n",
    "        datafile.loc[datafile.max_bound_100K == previous, 'max_bound_100K'] = x\n",
    "    previous = x"
   ]
  },
  {
   "cell_type": "code",
   "execution_count": null,
   "metadata": {},
   "outputs": [],
   "source": []
  }
 ],
 "metadata": {
  "kernelspec": {
   "display_name": "Python 2",
   "language": "python",
   "name": "python2"
  },
  "language_info": {
   "codemirror_mode": {
    "name": "ipython",
    "version": 2
   },
   "file_extension": ".py",
   "mimetype": "text/x-python",
   "name": "python",
   "nbconvert_exporter": "python",
   "pygments_lexer": "ipython2",
   "version": "2.7.15"
  }
 },
 "nbformat": 4,
 "nbformat_minor": 2
}
