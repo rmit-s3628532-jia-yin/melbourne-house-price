{
  "nbformat": 4,
  "nbformat_minor": 0,
  "metadata": {
    "colab": {
      "name": "Random_forest_modified_class_labels.ipynb",
      "provenance": [],
      "collapsed_sections": []
    },
    "kernelspec": {
      "name": "python3",
      "display_name": "Python 3"
    }
  },
  "cells": [
    {
      "cell_type": "code",
      "metadata": {
        "id": "ah2EkFIJRDVL",
        "colab_type": "code",
        "colab": {
          "base_uri": "https://localhost:8080/",
          "height": 54
        },
        "outputId": "5765b96d-02d2-4849-c3e3-ae765252dbb3"
      },
      "source": [
        "import pandas as pd\n",
        "import matplotlib.pyplot as plt\n",
        "import numpy as np\n",
        "import sklearn\n",
        "from sklearn import tree\n",
        "from sklearn import preprocessing\n",
        "from sklearn import metrics\n",
        "from sklearn import model_selection\n",
        "import graphviz\n",
        "import seaborn as sns\n",
        "import math\n",
        "from sklearn.model_selection import train_test_split\n",
        "from sklearn.ensemble import RandomForestClassifier\n",
        "from sklearn.decomposition import PCA\n",
        "from sklearn.decomposition import TruncatedSVD\n",
        "from sklearn.decomposition import KernelPCA\n",
        "from sklearn.model_selection import GridSearchCV\n",
        "from sklearn.model_selection import RandomizedSearchCV\n",
        "\n",
        "pd.set_option('display.max_columns', 500)\n",
        "\n",
        "from google.colab import drive\n",
        "drive.mount('/content/drive')\n",
        "\n",
        "data = pd.read_csv('/content/drive/My Drive/machine learning/assignment 2/melbourne-house-prices/cleaned_data.csv') "
      ],
      "execution_count": 1,
      "outputs": [
        {
          "output_type": "stream",
          "text": [
            "Drive already mounted at /content/drive; to attempt to forcibly remount, call drive.mount(\"/content/drive\", force_remount=True).\n"
          ],
          "name": "stdout"
        }
      ]
    },
    {
      "cell_type": "code",
      "metadata": {
        "id": "BNocg0i8RXSr",
        "colab_type": "code",
        "colab": {
          "base_uri": "https://localhost:8080/",
          "height": 420
        },
        "outputId": "fb0d2cd2-2fa3-4a50-bdc4-cea5f764ccd0"
      },
      "source": [
        "data_copy = data.copy()\n",
        "\n",
        "#### explore the target ###\n",
        "plot = sns.countplot(data_copy['max_bound_100K'])\n",
        "plot.set_title(\"price bands\")\n",
        "plot.set_xticklabels(plot.get_xticklabels(), rotation=90, ha=\"right\")\n",
        "plt.show()\n",
        "\n",
        "plt.rcParams[\"figure.figsize\"] = (15, 10)\n",
        "\n",
        "data_copy.columns"
      ],
      "execution_count": 2,
      "outputs": [
        {
          "output_type": "display_data",
          "data": {
            "image/png": "[encoded data removed]",
            "text/plain": [
              "<Figure size 432x288 with 1 Axes>"
            ]
          },
          "metadata": {
            "tags": []
          }
        },
        {
          "output_type": "execute_result",
          "data": {
            "text/plain": [
              "Index(['suburb', 'rooms', 'type_code', 'max_bound_100K', 'price_bands',\n",
              "       'method_orig', 'method', 'realestate_agent', 'year', 'distance',\n",
              "       'postcode', 'bedrooms', 'bathrooms', 'car_parks', 'landsize',\n",
              "       'building_area', 'council_area', 'lattitude', 'longtitude',\n",
              "       'region_name', 'suburb_property_count'],\n",
              "      dtype='object')"
            ]
          },
          "metadata": {
            "tags": []
          },
          "execution_count": 2
        }
      ]
    },
    {
      "cell_type": "code",
      "metadata": {
        "id": "Zb1UKrE6Uu2D",
        "colab_type": "code",
        "colab": {}
      },
      "source": [
        "# function used to find the split that produces the error closest to the average error\n",
        "def find_nearest(array, value):\n",
        "    array = np.asarray(array)\n",
        "    idx = (np.abs(array - value)).argmin()\n",
        "    return idx"
      ],
      "execution_count": 0,
      "outputs": []
    },
    {
      "cell_type": "code",
      "metadata": {
        "id": "5OGmU28kRqlf",
        "colab_type": "code",
        "colab": {}
      },
      "source": [
        "counts = data_copy['max_bound_100K'].value_counts().to_dict()\n",
        "\n",
        "#drop all classes that have less than 100 members\n",
        "data_copy = data_copy.drop(data_copy[data_copy.max_bound_100K < 300].index)\n",
        "data_copy = data_copy.drop(data_copy[data_copy.max_bound_100K > 2700].index)\n",
        "\n",
        "#merge classes so that each has around 1500 elements, though classes whose base size exceed 1500 may go significantly over\n",
        "sum = 0\n",
        "previous = 0\n",
        "\n",
        "for x in sorted(counts):\n",
        "    sum += counts[x]\n",
        "    if sum > 1500:\n",
        "        sum = 0\n",
        "        previous = 0\n",
        "    if previous != 0:\n",
        "        data_copy.loc[data_copy.max_bound_100K == previous, 'max_bound_100K'] = x\n",
        "    previous = x"
      ],
      "execution_count": 0,
      "outputs": []
    },
    {
      "cell_type": "code",
      "metadata": {
        "id": "ud4MmLRhTVjW",
        "colab_type": "code",
        "colab": {
          "base_uri": "https://localhost:8080/",
          "height": 119
        },
        "outputId": "3e5d7161-6126-4ecc-e462-3c661600c798"
      },
      "source": [
        "data_copy.columns"
      ],
      "execution_count": 5,
      "outputs": [
        {
          "output_type": "execute_result",
          "data": {
            "text/plain": [
              "Index(['suburb', 'rooms', 'type_code', 'max_bound_100K', 'price_bands',\n",
              "       'method_orig', 'method', 'realestate_agent', 'year', 'distance',\n",
              "       'postcode', 'bedrooms', 'bathrooms', 'car_parks', 'landsize',\n",
              "       'building_area', 'council_area', 'lattitude', 'longtitude',\n",
              "       'region_name', 'suburb_property_count'],\n",
              "      dtype='object')"
            ]
          },
          "metadata": {
            "tags": []
          },
          "execution_count": 5
        }
      ]
    },
    {
      "cell_type": "code",
      "metadata": {
        "id": "BBVWYwv-RvEO",
        "colab_type": "code",
        "colab": {
          "base_uri": "https://localhost:8080/",
          "height": 644
        },
        "outputId": "568c081e-0035-41c9-fe03-9a2e1fe1909a"
      },
      "source": [
        "plot = sns.countplot(data_copy['max_bound_100K'])\n",
        "plot.set_title(\"price bands\")\n",
        "plot.set_xticklabels(plot.get_xticklabels(), rotation=90, ha=\"right\")\n",
        "plt.show()"
      ],
      "execution_count": 6,
      "outputs": [
        {
          "output_type": "display_data",
          "data": {
            "image/png": "[encoded data removed]",
            "text/plain": [
              "<Figure size 1080x720 with 1 Axes>"
            ]
          },
          "metadata": {
            "tags": []
          }
        }
      ]
    },
    {
      "cell_type": "code",
      "metadata": {
        "id": "xXrqR_4oTYBu",
        "colab_type": "code",
        "colab": {}
      },
      "source": [
        "data_copy = data_copy.drop(columns=['price_bands'])"
      ],
      "execution_count": 0,
      "outputs": []
    },
    {
      "cell_type": "code",
      "metadata": {
        "id": "l5VfO5BaSBcz",
        "colab_type": "code",
        "colab": {}
      },
      "source": [
        "## seperate target and attributes\n",
        "\n",
        "X = data_copy.drop(columns='max_bound_100K')\n",
        "Y = data_copy['max_bound_100K']\n",
        "\n",
        "n_splits = 5\n",
        "kFold = model_selection.KFold(n_splits=n_splits, shuffle=True)"
      ],
      "execution_count": 0,
      "outputs": []
    },
    {
      "cell_type": "code",
      "metadata": {
        "id": "e1ifgZydTK2f",
        "colab_type": "code",
        "colab": {
          "base_uri": "https://localhost:8080/",
          "height": 85
        },
        "outputId": "13498a95-c519-4bf2-edcf-6e0737b7280a"
      },
      "source": [
        "## encode attributes\n",
        "X_converted = pd.get_dummies(X)\n",
        "\n",
        "print(\"resulting data frame\", X_converted.shape)\n",
        "\n",
        "## encode target\n",
        "le = preprocessing.LabelEncoder()\n",
        "le.fit(Y)\n",
        "\n",
        "Y_converted = le.transform(Y)\n",
        "max_value = max(Y_converted)\n",
        "print(max_value)\n",
        "class_labels = le.inverse_transform(np.arange(max_value + 1))\n",
        "\n",
        "print(Y_converted)\n",
        "print(class_labels)\n",
        "\n",
        "## standadize for use of truncated SVD\n",
        "scaler = preprocessing.StandardScaler()\n",
        "scaler.fit(X_converted)\n",
        "\n",
        "X_converted = scaler.transform(X_converted)"
      ],
      "execution_count": 9,
      "outputs": [
        {
          "output_type": "stream",
          "text": [
            "resulting data frame (26505, 754)\n",
            "11\n",
            "[ 0  0  0 ... 11 11 11]\n",
            "[  400   500   600   700   800   900  1100  1300  1500  1800  2600 11300]\n"
          ],
          "name": "stdout"
        }
      ]
    },
    {
      "cell_type": "code",
      "metadata": {
        "id": "fz7FaA83Tenj",
        "colab_type": "code",
        "colab": {
          "base_uri": "https://localhost:8080/",
          "height": 187
        },
        "outputId": "44d73d4a-8dee-446d-f691-ec5a50372f61"
      },
      "source": [
        "### cross validating performance \n",
        "\n",
        "accuracies = []\n",
        "trainIndexList = []\n",
        "testIndexList = []\n",
        "\n",
        "for trainIndex, testIndex in kFold.split(X_converted):\n",
        "  trainIndexList.append(trainIndex)\n",
        "  testIndexList.append(testIndex)\n",
        "    \n",
        "  clf = RandomForestClassifier(n_estimators=350, max_depth=34, max_features='sqrt', min_samples_split=5, min_samples_leaf=2, random_state=42)\n",
        "\n",
        "  model = clf.fit(X_converted[trainIndex], Y_converted[trainIndex])\n",
        "  predictions = model.predict(X_converted[testIndex])\n",
        "  print(\"accuracy: \")\n",
        "  accuracy = metrics.accuracy_score(Y_converted[testIndex], predictions)\n",
        "  print(metrics.accuracy_score(Y_converted[testIndex], predictions))\n",
        "  accuracies.append(accuracy)\n",
        "  "
      ],
      "execution_count": 10,
      "outputs": [
        {
          "output_type": "stream",
          "text": [
            "accuracy: \n",
            "0.38653084323712505\n",
            "accuracy: \n",
            "0.39256744010564043\n",
            "accuracy: \n",
            "0.3857762686285606\n",
            "accuracy: \n",
            "0.39256744010564043\n",
            "accuracy: \n",
            "0.39577438219203925\n"
          ],
          "name": "stdout"
        }
      ]
    },
    {
      "cell_type": "code",
      "metadata": {
        "id": "unW4QuX0T6Nt",
        "colab_type": "code",
        "colab": {
          "base_uri": "https://localhost:8080/",
          "height": 34
        },
        "outputId": "e91a4fca-b303-40f1-e32d-9491b7b39ec2"
      },
      "source": [
        "# find the split that produces the error closest to the average error\n",
        "best_split = find_nearest(accuracies, np.average(accuracies))\n",
        "\n",
        "# get the final optimal model using the best split\n",
        "train_x, test_x = X_converted[trainIndexList[best_split]], X_converted[testIndexList[best_split]]\n",
        "train_y, test_y = Y_converted[trainIndexList[best_split]], Y_converted[testIndexList[best_split]]\n",
        "\n",
        "clf = RandomForestClassifier(n_estimators=350, max_depth=34, max_features='sqrt', min_samples_split=5, min_samples_leaf=2, random_state=43)\n",
        "model = clf.fit(train_x, train_y)\n",
        "\n",
        "predictions = model.predict(test_x)\n",
        "print(metrics.accuracy_score(test_y, predictions))"
      ],
      "execution_count": 11,
      "outputs": [
        {
          "output_type": "stream",
          "text": [
            "0.39332201471420486\n"
          ],
          "name": "stdout"
        }
      ]
    },
    {
      "cell_type": "code",
      "metadata": {
        "id": "x81xIYkCT7XS",
        "colab_type": "code",
        "colab": {
          "base_uri": "https://localhost:8080/",
          "height": 452
        },
        "outputId": "519f22b2-6448-4db4-96c4-07c96acfbae8"
      },
      "source": [
        "from sklearn.metrics import confusion_matrix\n",
        "np.set_printoptions(threshold=np.inf)\n",
        "\n",
        "\n",
        "y_actu = pd.Series(test_y, name='Actual')\n",
        "y_pred = pd.Series(predictions, name='Predicted')\n",
        "df_confusion = pd.crosstab(y_actu, y_pred)\n",
        "df_confusion"
      ],
      "execution_count": 12,
      "outputs": [
        {
          "output_type": "execute_result",
          "data": {
            "text/html": [
              "<div>\n",
              "<style scoped>\n",
              "    .dataframe tbody tr th:only-of-type {\n",
              "        vertical-align: middle;\n",
              "    }\n",
              "\n",
              "    .dataframe tbody tr th {\n",
              "        vertical-align: top;\n",
              "    }\n",
              "\n",
              "    .dataframe thead th {\n",
              "        text-align: right;\n",
              "    }\n",
              "</style>\n",
              "<table border=\"1\" class=\"dataframe\">\n",
              "  <thead>\n",
              "    <tr style=\"text-align: right;\">\n",
              "      <th>Predicted</th>\n",
              "      <th>0</th>\n",
              "      <th>1</th>\n",
              "      <th>2</th>\n",
              "      <th>3</th>\n",
              "      <th>4</th>\n",
              "      <th>5</th>\n",
              "      <th>6</th>\n",
              "      <th>7</th>\n",
              "      <th>8</th>\n",
              "      <th>9</th>\n",
              "      <th>10</th>\n",
              "    </tr>\n",
              "    <tr>\n",
              "      <th>Actual</th>\n",
              "      <th></th>\n",
              "      <th></th>\n",
              "      <th></th>\n",
              "      <th></th>\n",
              "      <th></th>\n",
              "      <th></th>\n",
              "      <th></th>\n",
              "      <th></th>\n",
              "      <th></th>\n",
              "      <th></th>\n",
              "      <th></th>\n",
              "    </tr>\n",
              "  </thead>\n",
              "  <tbody>\n",
              "    <tr>\n",
              "      <th>0</th>\n",
              "      <td>133</td>\n",
              "      <td>52</td>\n",
              "      <td>15</td>\n",
              "      <td>8</td>\n",
              "      <td>2</td>\n",
              "      <td>1</td>\n",
              "      <td>2</td>\n",
              "      <td>0</td>\n",
              "      <td>0</td>\n",
              "      <td>0</td>\n",
              "      <td>0</td>\n",
              "    </tr>\n",
              "    <tr>\n",
              "      <th>1</th>\n",
              "      <td>48</td>\n",
              "      <td>162</td>\n",
              "      <td>106</td>\n",
              "      <td>42</td>\n",
              "      <td>14</td>\n",
              "      <td>1</td>\n",
              "      <td>0</td>\n",
              "      <td>0</td>\n",
              "      <td>0</td>\n",
              "      <td>0</td>\n",
              "      <td>1</td>\n",
              "    </tr>\n",
              "    <tr>\n",
              "      <th>2</th>\n",
              "      <td>12</td>\n",
              "      <td>90</td>\n",
              "      <td>194</td>\n",
              "      <td>187</td>\n",
              "      <td>29</td>\n",
              "      <td>4</td>\n",
              "      <td>9</td>\n",
              "      <td>0</td>\n",
              "      <td>0</td>\n",
              "      <td>0</td>\n",
              "      <td>1</td>\n",
              "    </tr>\n",
              "    <tr>\n",
              "      <th>3</th>\n",
              "      <td>2</td>\n",
              "      <td>39</td>\n",
              "      <td>128</td>\n",
              "      <td>327</td>\n",
              "      <td>100</td>\n",
              "      <td>15</td>\n",
              "      <td>25</td>\n",
              "      <td>2</td>\n",
              "      <td>2</td>\n",
              "      <td>1</td>\n",
              "      <td>0</td>\n",
              "    </tr>\n",
              "    <tr>\n",
              "      <th>4</th>\n",
              "      <td>1</td>\n",
              "      <td>5</td>\n",
              "      <td>33</td>\n",
              "      <td>175</td>\n",
              "      <td>155</td>\n",
              "      <td>53</td>\n",
              "      <td>112</td>\n",
              "      <td>13</td>\n",
              "      <td>4</td>\n",
              "      <td>1</td>\n",
              "      <td>3</td>\n",
              "    </tr>\n",
              "    <tr>\n",
              "      <th>5</th>\n",
              "      <td>1</td>\n",
              "      <td>1</td>\n",
              "      <td>8</td>\n",
              "      <td>79</td>\n",
              "      <td>109</td>\n",
              "      <td>68</td>\n",
              "      <td>218</td>\n",
              "      <td>22</td>\n",
              "      <td>6</td>\n",
              "      <td>2</td>\n",
              "      <td>0</td>\n",
              "    </tr>\n",
              "    <tr>\n",
              "      <th>6</th>\n",
              "      <td>4</td>\n",
              "      <td>0</td>\n",
              "      <td>6</td>\n",
              "      <td>37</td>\n",
              "      <td>45</td>\n",
              "      <td>44</td>\n",
              "      <td>417</td>\n",
              "      <td>90</td>\n",
              "      <td>22</td>\n",
              "      <td>12</td>\n",
              "      <td>12</td>\n",
              "    </tr>\n",
              "    <tr>\n",
              "      <th>7</th>\n",
              "      <td>0</td>\n",
              "      <td>1</td>\n",
              "      <td>0</td>\n",
              "      <td>17</td>\n",
              "      <td>13</td>\n",
              "      <td>9</td>\n",
              "      <td>225</td>\n",
              "      <td>184</td>\n",
              "      <td>54</td>\n",
              "      <td>31</td>\n",
              "      <td>32</td>\n",
              "    </tr>\n",
              "    <tr>\n",
              "      <th>8</th>\n",
              "      <td>0</td>\n",
              "      <td>1</td>\n",
              "      <td>1</td>\n",
              "      <td>4</td>\n",
              "      <td>2</td>\n",
              "      <td>5</td>\n",
              "      <td>93</td>\n",
              "      <td>126</td>\n",
              "      <td>79</td>\n",
              "      <td>73</td>\n",
              "      <td>42</td>\n",
              "    </tr>\n",
              "    <tr>\n",
              "      <th>9</th>\n",
              "      <td>0</td>\n",
              "      <td>0</td>\n",
              "      <td>2</td>\n",
              "      <td>1</td>\n",
              "      <td>2</td>\n",
              "      <td>3</td>\n",
              "      <td>34</td>\n",
              "      <td>67</td>\n",
              "      <td>48</td>\n",
              "      <td>79</td>\n",
              "      <td>145</td>\n",
              "    </tr>\n",
              "    <tr>\n",
              "      <th>10</th>\n",
              "      <td>0</td>\n",
              "      <td>0</td>\n",
              "      <td>0</td>\n",
              "      <td>2</td>\n",
              "      <td>0</td>\n",
              "      <td>0</td>\n",
              "      <td>12</td>\n",
              "      <td>24</td>\n",
              "      <td>32</td>\n",
              "      <td>42</td>\n",
              "      <td>287</td>\n",
              "    </tr>\n",
              "    <tr>\n",
              "      <th>11</th>\n",
              "      <td>0</td>\n",
              "      <td>0</td>\n",
              "      <td>0</td>\n",
              "      <td>0</td>\n",
              "      <td>0</td>\n",
              "      <td>0</td>\n",
              "      <td>1</td>\n",
              "      <td>1</td>\n",
              "      <td>0</td>\n",
              "      <td>0</td>\n",
              "      <td>15</td>\n",
              "    </tr>\n",
              "  </tbody>\n",
              "</table>\n",
              "</div>"
            ],
            "text/plain": [
              "Predicted   0    1    2    3    4   5    6    7   8   9    10\n",
              "Actual                                                       \n",
              "0          133   52   15    8    2   1    2    0   0   0    0\n",
              "1           48  162  106   42   14   1    0    0   0   0    1\n",
              "2           12   90  194  187   29   4    9    0   0   0    1\n",
              "3            2   39  128  327  100  15   25    2   2   1    0\n",
              "4            1    5   33  175  155  53  112   13   4   1    3\n",
              "5            1    1    8   79  109  68  218   22   6   2    0\n",
              "6            4    0    6   37   45  44  417   90  22  12   12\n",
              "7            0    1    0   17   13   9  225  184  54  31   32\n",
              "8            0    1    1    4    2   5   93  126  79  73   42\n",
              "9            0    0    2    1    2   3   34   67  48  79  145\n",
              "10           0    0    0    2    0   0   12   24  32  42  287\n",
              "11           0    0    0    0    0   0    1    1   0   0   15"
            ]
          },
          "metadata": {
            "tags": []
          },
          "execution_count": 12
        }
      ]
    },
    {
      "cell_type": "code",
      "metadata": {
        "id": "jyvjjAW6T_Ev",
        "colab_type": "code",
        "colab": {}
      },
      "source": [
        ""
      ],
      "execution_count": 0,
      "outputs": []
    }
  ]
}